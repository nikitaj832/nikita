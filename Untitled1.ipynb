{
  "nbformat": 4,
  "nbformat_minor": 0,
  "metadata": {
    "colab": {
      "provenance": [],
      "authorship_tag": "ABX9TyOz483D82NxOiK6e6qjPHQV",
      "include_colab_link": true
    },
    "kernelspec": {
      "name": "python3",
      "display_name": "Python 3"
    },
    "language_info": {
      "name": "python"
    }
  },
  "cells": [
    {
      "cell_type": "markdown",
      "metadata": {
        "id": "view-in-github",
        "colab_type": "text"
      },
      "source": [
        "<a href=\"https://colab.research.google.com/github/nikitaj832/nikita/blob/main/Untitled1.ipynb\" target=\"_parent\"><img src=\"https://colab.research.google.com/assets/colab-badge.svg\" alt=\"Open In Colab\"/></a>"
      ]
    },
    {
      "cell_type": "code",
      "execution_count": null,
      "metadata": {
        "colab": {
          "base_uri": "https://localhost:8080/"
        },
        "id": "icnsO3Mhv5YC",
        "outputId": "89aa9b98-e797-439b-c5cd-36a92f135c1c"
      },
      "outputs": [
        {
          "output_type": "execute_result",
          "data": {
            "text/plain": [
              "3"
            ]
          },
          "metadata": {},
          "execution_count": 1
        }
      ],
      "source": [
        "20//6"
      ]
    },
    {
      "cell_type": "code",
      "source": [
        "2**3\n",
        "1\n"
      ],
      "metadata": {
        "colab": {
          "base_uri": "https://localhost:8080/"
        },
        "id": "6R7OuYuVxNbV",
        "outputId": "20d65df8-f52d-4dfa-befd-0c7213f474c6"
      },
      "execution_count": null,
      "outputs": [
        {
          "output_type": "execute_result",
          "data": {
            "text/plain": [
              "1"
            ]
          },
          "metadata": {},
          "execution_count": 2
        }
      ]
    },
    {
      "cell_type": "code",
      "source": [
        "2**9\n",
        "\n"
      ],
      "metadata": {
        "colab": {
          "base_uri": "https://localhost:8080/"
        },
        "id": "A0pM5jb_xewQ",
        "outputId": "d988b169-672e-45f5-c872-20e274628b9b"
      },
      "execution_count": null,
      "outputs": [
        {
          "output_type": "execute_result",
          "data": {
            "text/plain": [
              "512"
            ]
          },
          "metadata": {},
          "execution_count": 3
        }
      ]
    },
    {
      "cell_type": "code",
      "source": [
        "X=10\n",
        "X<9"
      ],
      "metadata": {
        "colab": {
          "base_uri": "https://localhost:8080/"
        },
        "id": "jIhtEQKIx1Xo",
        "outputId": "275b3aea-8cfc-4662-d8a0-43bf42ca11e6"
      },
      "execution_count": null,
      "outputs": [
        {
          "output_type": "execute_result",
          "data": {
            "text/plain": [
              "False"
            ]
          },
          "metadata": {},
          "execution_count": 6
        }
      ]
    },
    {
      "cell_type": "code",
      "source": [
        "x=19\n",
        "x==19"
      ],
      "metadata": {
        "colab": {
          "base_uri": "https://localhost:8080/"
        },
        "id": "euytuQJyyUDU",
        "outputId": "b6cccfe2-3563-4b11-a7c3-7eb54bc146eb"
      },
      "execution_count": null,
      "outputs": [
        {
          "output_type": "execute_result",
          "data": {
            "text/plain": [
              "True"
            ]
          },
          "metadata": {},
          "execution_count": 8
        }
      ]
    },
    {
      "cell_type": "code",
      "source": [
        "x=2\n",
        "x**=4\n",
        "\n",
        "print(x)"
      ],
      "metadata": {
        "colab": {
          "base_uri": "https://localhost:8080/"
        },
        "id": "BHwk9tS1zJut",
        "outputId": "4d1e7605-ef47-447f-e681-696966f903d1"
      },
      "execution_count": null,
      "outputs": [
        {
          "output_type": "stream",
          "name": "stdout",
          "text": [
            "16\n"
          ]
        }
      ]
    },
    {
      "cell_type": "code",
      "source": [
        "44>>2"
      ],
      "metadata": {
        "colab": {
          "base_uri": "https://localhost:8080/"
        },
        "id": "VIOK6Sy32AYG",
        "outputId": "3dab086b-1393-4cca-b97c-48a40b35f56e"
      },
      "execution_count": null,
      "outputs": [
        {
          "output_type": "execute_result",
          "data": {
            "text/plain": [
              "11"
            ]
          },
          "metadata": {},
          "execution_count": 18
        }
      ]
    },
    {
      "cell_type": "code",
      "source": [
        "\"T\" not in \"tushar\""
      ],
      "metadata": {
        "colab": {
          "base_uri": "https://localhost:8080/"
        },
        "id": "SmlZsYo341Of",
        "outputId": "2e4006db-3d0b-496f-8cdf-1eda88a09c87"
      },
      "execution_count": null,
      "outputs": [
        {
          "output_type": "execute_result",
          "data": {
            "text/plain": [
              "True"
            ]
          },
          "metadata": {},
          "execution_count": 22
        }
      ]
    },
    {
      "cell_type": "code",
      "source": [
        "x=10\n",
        "type(x) is not str\n"
      ],
      "metadata": {
        "colab": {
          "base_uri": "https://localhost:8080/"
        },
        "id": "eua9AD3h5pSR",
        "outputId": "d87528ae-f2a5-4f59-f37c-d7ee8e4d8b02"
      },
      "execution_count": null,
      "outputs": [
        {
          "output_type": "execute_result",
          "data": {
            "text/plain": [
              "True"
            ]
          },
          "metadata": {},
          "execution_count": 24
        }
      ]
    },
    {
      "cell_type": "code",
      "source": [
        "age=18o\n",
        "\n",
        "if(age==18):\n",
        "  print(\"age is small than 18\")\n",
        "\n",
        "elif(age==19):\n",
        "  print(\"age is small than 19\")\n",
        "else:\n",
        "  print(\"cond is false\")\n",
        "\n",
        "\n",
        "\n",
        "\n",
        "\n",
        "\n",
        "\n"
      ],
      "metadata": {
        "colab": {
          "base_uri": "https://localhost:8080/",
          "height": 131
        },
        "id": "jPDMDmwS6je1",
        "outputId": "64c1d714-62ea-41c6-ee17-bd9a36ac792a"
      },
      "execution_count": null,
      "outputs": [
        {
          "output_type": "error",
          "ename": "SyntaxError",
          "evalue": "ignored",
          "traceback": [
            "\u001b[0;36m  File \u001b[0;32m\"<ipython-input-40-b5e2952fa59b>\"\u001b[0;36m, line \u001b[0;32m1\u001b[0m\n\u001b[0;31m    age=18o\u001b[0m\n\u001b[0m         ^\u001b[0m\n\u001b[0;31mSyntaxError\u001b[0m\u001b[0;31m:\u001b[0m invalid decimal literal\n"
          ]
        }
      ]
    },
    {
      "cell_type": "code",
      "source": [
        "x=10\n",
        "y=20\n",
        "if(type(x)==int and type(y)==int):\n",
        "  add=x+y\n",
        "  print(add)\n",
        "else:\n",
        "  print(\"it is not int\")"
      ],
      "metadata": {
        "colab": {
          "base_uri": "https://localhost:8080/"
        },
        "id": "O0TRkU2K8cKe",
        "outputId": "a36bd0bc-c23b-4f27-d298-4c71dbc8d0a2"
      },
      "execution_count": null,
      "outputs": [
        {
          "output_type": "stream",
          "name": "stdout",
          "text": [
            "30\n"
          ]
        }
      ]
    },
    {
      "cell_type": "code",
      "source": [
        "a=int(input(\"enter first no.\"))\n",
        "b=int(input(\"enter second no.\"))\n",
        "c=int(input(\"enter third no.\"))\n",
        "if(a<b):\n",
        "  print(\"num\",a)\n",
        "elif(b<c):\n",
        "  print(\"num\",b)\n",
        "else:\n",
        "  print(\"num\",c)\n"
      ],
      "metadata": {
        "colab": {
          "base_uri": "https://localhost:8080/"
        },
        "id": "koFUq0t9_8Mv",
        "outputId": "3153cf6f-c307-42f2-bd18-c8ef48416e8f"
      },
      "execution_count": null,
      "outputs": [
        {
          "output_type": "stream",
          "name": "stdout",
          "text": [
            "enter first no.3\n",
            "enter second no.2\n",
            "enter third no.3\n",
            "num 2\n"
          ]
        }
      ]
    },
    {
      "cell_type": "code",
      "source": [
        "str1=input(\"enter first num\")\n",
        "str2=input(\"enter second num\")\n",
        "if(str2 in str1):\n",
        "   print(\"str is match\")\n",
        "else:\n",
        "  print(\"str is not match\")"
      ],
      "metadata": {
        "colab": {
          "base_uri": "https://localhost:8080/"
        },
        "id": "qvd9CcyGCcEV",
        "outputId": "0e712256-50d1-400a-82d3-468163e325e8"
      },
      "execution_count": null,
      "outputs": [
        {
          "output_type": "stream",
          "name": "stdout",
          "text": [
            "enter first num14332\n",
            "enter second num143\n",
            "str is match\n"
          ]
        }
      ]
    },
    {
      "cell_type": "code",
      "source": [
        "v=[\"a\",\"e\",\"i\",\"o\",\"u\",\"A\",\"E\",\"I\",\"O\",\"U\"]\n",
        "v1=input(\"enter the string= \")\n",
        "if(v1 in v):\n",
        "   print(\"it is vowel\")\n",
        "else:\n",
        "  print(\"it is not vowel\")"
      ],
      "metadata": {
        "colab": {
          "base_uri": "https://localhost:8080/"
        },
        "id": "mBm5oev-DHjj",
        "outputId": "c23a13e2-bb2e-4aca-caa0-50b7ba1436db"
      },
      "execution_count": null,
      "outputs": [
        {
          "output_type": "stream",
          "name": "stdout",
          "text": [
            "enter the string= u\n",
            "it is vowel\n"
          ]
        }
      ]
    },
    {
      "cell_type": "code",
      "source": [
        "\n",
        "\n",
        "\n"
      ],
      "metadata": {
        "id": "uu1YTLNfEMYx"
      },
      "execution_count": null,
      "outputs": []
    }
  ]
}