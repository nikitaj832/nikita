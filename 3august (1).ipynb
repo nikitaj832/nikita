{
 "cells": [
  {
   "cell_type": "code",
   "execution_count": 16,
   "id": "0d5ebaef-1fce-4d72-949e-0014a5e60ec3",
   "metadata": {},
   "outputs": [
    {
     "name": "stdin",
     "output_type": "stream",
     "text": [
      "enter the number: 2\n"
     ]
    },
    {
     "name": "stdout",
     "output_type": "stream",
     "text": [
      "[2, 3, 5]\n"
     ]
    }
   ],
   "source": [
    "n=list(map(int,input(\"enter the number:\").split()))\n",
    "def prime_numbers(n):\n",
    "    primes = []\n",
    "    for i in range(2, n + 1):\n",
    "        for j in range(2, int(i ** 0.5) + 1):\n",
    "            if i%j == 0:\n",
    "                break\n",
    "        else:\n",
    "            primes.append(i)\n",
    "    return primes\n",
    "\n",
    "prime_list = prime_numbers(5)\n",
    "print(prime_list)"
   ]
  },
  {
   "cell_type": "code",
   "execution_count": 19,
   "id": "1b438933-5f57-4f71-9319-18ad1daaea42",
   "metadata": {},
   "outputs": [
    {
     "data": {
      "text/plain": [
       "[2, 3, 5, 7, 11]"
      ]
     },
     "execution_count": 19,
     "metadata": {},
     "output_type": "execute_result"
    }
   ],
   "source": [
    "numbers=[2,3,4,5,6,7,8,9,10,11,12]\n",
    "prime_numbers=[num for num in numbers if num>1 and all(num%i !=0 for i in range(2,num))]\n",
    "prime_numbers"
   ]
  },
  {
   "cell_type": "code",
   "execution_count": null,
   "id": "03d339d3-8e9b-4b53-9339-0f33398bfc6c",
   "metadata": {},
   "outputs": [],
   "source": [
    "mahak is a pagal"
   ]
  },
  {
   "cell_type": "code",
   "execution_count": 27,
   "id": "9c1f8aad-fb27-4309-a6c2-21da9265ea37",
   "metadata": {},
   "outputs": [
    {
     "name": "stdin",
     "output_type": "stream",
     "text": [
      "enter string hellh wordw pop list looll pishp orange\n"
     ]
    },
    {
     "data": {
      "text/plain": [
       "['hellh', 'wordw', 'pop', 'list', 'looll', 'pishp', 'orange']"
      ]
     },
     "execution_count": 27,
     "metadata": {},
     "output_type": "execute_result"
    }
   ],
   "source": [
    "input_list=input(\"enter string\")\n",
    "word_list=input_list.split()\n",
    "word_list"
   ]
  },
  {
   "cell_type": "code",
   "execution_count": 30,
   "id": "2c640f64-fbf8-470f-b539-b75ff5452dc7",
   "metadata": {},
   "outputs": [
    {
     "data": {
      "text/plain": [
       "['hellh', 'wordw', 'pop', 'looll', 'pishp']"
      ]
     },
     "execution_count": 30,
     "metadata": {},
     "output_type": "execute_result"
    }
   ],
   "source": [
    "result = [word for word in word_list if len(word)>=2 and  word[0] == word[-1]]\n",
    "result"
   ]
  },
  {
   "cell_type": "code",
   "execution_count": null,
   "id": "6a8f5067-c494-4a32-9f5d-5eba0f95ec61",
   "metadata": {},
   "outputs": [],
   "source": []
  },
  {
   "cell_type": "code",
   "execution_count": null,
   "id": "b9e3a04c-f003-4b6f-a67f-0ba948f597ee",
   "metadata": {},
   "outputs": [],
   "source": []
  },
  {
   "cell_type": "code",
   "execution_count": null,
   "id": "767b2d31-c8a3-450f-8b47-1d19750376b3",
   "metadata": {},
   "outputs": [],
   "source": []
  },
  {
   "cell_type": "code",
   "execution_count": null,
   "id": "1b46282e-3a23-4934-bb2c-2b3992c5b9b0",
   "metadata": {},
   "outputs": [],
   "source": []
  },
  {
   "cell_type": "code",
   "execution_count": null,
   "id": "c2059abe-7822-41f9-9145-d11ac74aea37",
   "metadata": {},
   "outputs": [],
   "source": []
  },
  {
   "cell_type": "code",
   "execution_count": null,
   "id": "92005657-8ad8-4f77-96bc-bbee767f1b58",
   "metadata": {},
   "outputs": [],
   "source": []
  },
  {
   "cell_type": "code",
   "execution_count": null,
   "id": "c204d827-ba30-46ad-b69f-8f07d6cb766f",
   "metadata": {},
   "outputs": [],
   "source": []
  },
  {
   "cell_type": "code",
   "execution_count": null,
   "id": "379b3c61-8ee9-42ee-9aaa-aedbfaa6c3e2",
   "metadata": {},
   "outputs": [],
   "source": []
  }
 ],
 "metadata": {
  "kernelspec": {
   "display_name": "Python 3 (ipykernel)",
   "language": "python",
   "name": "python3"
  },
  "language_info": {
   "codemirror_mode": {
    "name": "ipython",
    "version": 3
   },
   "file_extension": ".py",
   "mimetype": "text/x-python",
   "name": "python",
   "nbconvert_exporter": "python",
   "pygments_lexer": "ipython3",
   "version": "3.10.11"
  }
 },
 "nbformat": 4,
 "nbformat_minor": 5
}
